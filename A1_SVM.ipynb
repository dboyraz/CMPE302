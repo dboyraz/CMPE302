{
  "nbformat": 4,
  "nbformat_minor": 0,
  "metadata": {
    "colab": {
      "provenance": []
    },
    "kernelspec": {
      "name": "python3",
      "display_name": "Python 3"
    },
    "language_info": {
      "name": "python"
    }
  },
  "cells": [
    {
      "cell_type": "code",
      "execution_count": 17,
      "metadata": {
        "id": "T5I29spLGjHp"
      },
      "outputs": [],
      "source": [
        "from sklearn import datasets\n",
        "from sklearn.model_selection import train_test_split, cross_val_score\n",
        "from sklearn.svm import SVC\n",
        "from sklearn.metrics import classification_report, accuracy_score"
      ]
    },
    {
      "cell_type": "code",
      "source": [
        "# Using Iris as dataset\n",
        "# Load dataset\n",
        "iris = datasets.load_iris()\n",
        "X = iris.data\n",
        "y = iris.target\n",
        "\n",
        "# Split the dataset into training and test sets\n",
        "X_train, X_test, y_train, y_test = train_test_split(X, y, test_size=0.2, random_state=42)"
      ],
      "metadata": {
        "id": "L1UniE1aG1_G"
      },
      "execution_count": 18,
      "outputs": []
    },
    {
      "cell_type": "code",
      "source": [
        "# Linear SVM\n",
        "svm_linear = SVC(kernel='linear')\n",
        "svm_linear.fit(X_train, y_train)\n",
        "\n",
        "# Polynomial\n",
        "svm_poly = SVC(kernel='poly', degree=3)\n",
        "svm_poly.fit(X_train, y_train)\n",
        "\n",
        "# Radial Basis Function\n",
        "svm_rbf = SVC(kernel='rbf', gamma='scale')\n",
        "svm_rbf.fit(X_train, y_train)\n",
        "\n",
        "# Sigmoid\n",
        "svm_sigmoid = SVC(kernel='sigmoid')\n",
        "svm_sigmoid.fit(X_train, y_train)"
      ],
      "metadata": {
        "id": "-3BDj2B0HNme"
      },
      "execution_count": null,
      "outputs": []
    },
    {
      "cell_type": "code",
      "source": [
        "# Creating a function here to evaluate models using accuracy score,classification report and cross validation\n",
        "def evaluate_model(model, X_test, y_test):\n",
        "    y_pred = model.predict(X_test)\n",
        "    scores = cross_val_score(model, X, y, cv=5)\n",
        "    print(\"Accuracy scores for each fold:\", scores)\n",
        "    print(\"Mean cross-validation score: {:.2f}\".format(scores.mean()))\n",
        "    print(\"Standard deviation of the scores: {:.2f}\".format(scores.std()))\n",
        "    print(f\"Accuracy: {accuracy_score(y_test, y_pred)}\")\n",
        "    print(classification_report(y_test, y_pred, zero_division=1))\n",
        "\n",
        "# Evaluate each model\n",
        "print(\"Linear SVM:\")\n",
        "evaluate_model(svm_linear, X_test, y_test)\n",
        "print('-'*85)\n",
        "\n",
        "print(\"Polynomial :\")\n",
        "evaluate_model(svm_poly, X_test, y_test)\n",
        "print('-'*85)\n",
        "\n",
        "print(\"RBF :\")\n",
        "evaluate_model(svm_rbf, X_test, y_test)\n",
        "print('-'*85)\n",
        "\n",
        "print(\"Sigmoid :\")\n",
        "evaluate_model(svm_sigmoid, X_test, y_test)\n",
        "\n",
        "# After evaluating these models we can see that Sigmoid SVM model is not a good fit for our dataset,\n",
        "# probably because Sigmoid is best for binary classification and our dataset set has three classes"
      ],
      "metadata": {
        "colab": {
          "base_uri": "https://localhost:8080/"
        },
        "id": "CaPvSvGvH4F6",
        "outputId": "ec0f690b-5307-45bc-a6f8-f1f8399bca92"
      },
      "execution_count": 32,
      "outputs": [
        {
          "output_type": "stream",
          "name": "stdout",
          "text": [
            "Linear SVM:\n",
            "Accuracy scores for each fold: [0.96666667 1.         0.96666667 0.96666667 1.        ]\n",
            "Mean cross-validation score: 0.98\n",
            "Standard deviation of the scores: 0.02\n",
            "Accuracy: 1.0\n",
            "              precision    recall  f1-score   support\n",
            "\n",
            "           0       1.00      1.00      1.00        10\n",
            "           1       1.00      1.00      1.00         9\n",
            "           2       1.00      1.00      1.00        11\n",
            "\n",
            "    accuracy                           1.00        30\n",
            "   macro avg       1.00      1.00      1.00        30\n",
            "weighted avg       1.00      1.00      1.00        30\n",
            "\n",
            "-------------------------------------------------------------------------------------\n",
            "Polynomial :\n",
            "Accuracy scores for each fold: [0.96666667 1.         0.96666667 0.96666667 1.        ]\n",
            "Mean cross-validation score: 0.98\n",
            "Standard deviation of the scores: 0.02\n",
            "Accuracy: 1.0\n",
            "              precision    recall  f1-score   support\n",
            "\n",
            "           0       1.00      1.00      1.00        10\n",
            "           1       1.00      1.00      1.00         9\n",
            "           2       1.00      1.00      1.00        11\n",
            "\n",
            "    accuracy                           1.00        30\n",
            "   macro avg       1.00      1.00      1.00        30\n",
            "weighted avg       1.00      1.00      1.00        30\n",
            "\n",
            "-------------------------------------------------------------------------------------\n",
            "RBF :\n",
            "Accuracy scores for each fold: [0.96666667 0.96666667 0.96666667 0.93333333 1.        ]\n",
            "Mean cross-validation score: 0.97\n",
            "Standard deviation of the scores: 0.02\n",
            "Accuracy: 1.0\n",
            "              precision    recall  f1-score   support\n",
            "\n",
            "           0       1.00      1.00      1.00        10\n",
            "           1       1.00      1.00      1.00         9\n",
            "           2       1.00      1.00      1.00        11\n",
            "\n",
            "    accuracy                           1.00        30\n",
            "   macro avg       1.00      1.00      1.00        30\n",
            "weighted avg       1.00      1.00      1.00        30\n",
            "\n",
            "-------------------------------------------------------------------------------------\n",
            "Sigmoid :\n",
            "Accuracy scores for each fold: [0.03333333 0.16666667 0.         0.1        0.03333333]\n",
            "Mean cross-validation score: 0.07\n",
            "Standard deviation of the scores: 0.06\n",
            "Accuracy: 0.3\n",
            "              precision    recall  f1-score   support\n",
            "\n",
            "           0       1.00      0.00      0.00        10\n",
            "           1       0.30      1.00      0.46         9\n",
            "           2       1.00      0.00      0.00        11\n",
            "\n",
            "    accuracy                           0.30        30\n",
            "   macro avg       0.77      0.33      0.15        30\n",
            "weighted avg       0.79      0.30      0.14        30\n",
            "\n"
          ]
        }
      ]
    }
  ]
}